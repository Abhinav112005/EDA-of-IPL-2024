{
 "cells": [
  {
   "cell_type": "code",
   "execution_count": 1,
   "id": "753a5806-52bd-4803-8ba3-e0d691ec2886",
   "metadata": {},
   "outputs": [
    {
     "data": {
      "text/html": [
       "<div>\n",
       "<style scoped>\n",
       "    .dataframe tbody tr th:only-of-type {\n",
       "        vertical-align: middle;\n",
       "    }\n",
       "\n",
       "    .dataframe tbody tr th {\n",
       "        vertical-align: top;\n",
       "    }\n",
       "\n",
       "    .dataframe thead th {\n",
       "        text-align: right;\n",
       "    }\n",
       "</style>\n",
       "<table border=\"1\" class=\"dataframe\">\n",
       "  <thead>\n",
       "    <tr style=\"text-align: right;\">\n",
       "      <th></th>\n",
       "      <th>match_id</th>\n",
       "      <th>season</th>\n",
       "      <th>match_no</th>\n",
       "      <th>date</th>\n",
       "      <th>venue</th>\n",
       "      <th>batting_team</th>\n",
       "      <th>bowling_team</th>\n",
       "      <th>innings</th>\n",
       "      <th>over</th>\n",
       "      <th>striker</th>\n",
       "      <th>bowler</th>\n",
       "      <th>runs_of_bat</th>\n",
       "      <th>extras</th>\n",
       "      <th>wide</th>\n",
       "      <th>legbyes</th>\n",
       "      <th>byes</th>\n",
       "      <th>noballs</th>\n",
       "      <th>wicket_type</th>\n",
       "      <th>player_dismissed</th>\n",
       "      <th>fielder</th>\n",
       "    </tr>\n",
       "  </thead>\n",
       "  <tbody>\n",
       "    <tr>\n",
       "      <th>0</th>\n",
       "      <td>202401</td>\n",
       "      <td>2024</td>\n",
       "      <td>1</td>\n",
       "      <td>Mar 22, 2024</td>\n",
       "      <td>MA Chidambaram Stadium, Chennai</td>\n",
       "      <td>RCB</td>\n",
       "      <td>CSK</td>\n",
       "      <td>1</td>\n",
       "      <td>0.1</td>\n",
       "      <td>Kohli</td>\n",
       "      <td>Chahar</td>\n",
       "      <td>0</td>\n",
       "      <td>1</td>\n",
       "      <td>1</td>\n",
       "      <td>0</td>\n",
       "      <td>0</td>\n",
       "      <td>0</td>\n",
       "      <td>NaN</td>\n",
       "      <td>NaN</td>\n",
       "      <td>NaN</td>\n",
       "    </tr>\n",
       "    <tr>\n",
       "      <th>1</th>\n",
       "      <td>202401</td>\n",
       "      <td>2024</td>\n",
       "      <td>1</td>\n",
       "      <td>Mar 22, 2024</td>\n",
       "      <td>MA Chidambaram Stadium, Chennai</td>\n",
       "      <td>RCB</td>\n",
       "      <td>CSK</td>\n",
       "      <td>1</td>\n",
       "      <td>0.1</td>\n",
       "      <td>Kohli</td>\n",
       "      <td>Chahar</td>\n",
       "      <td>1</td>\n",
       "      <td>0</td>\n",
       "      <td>0</td>\n",
       "      <td>0</td>\n",
       "      <td>0</td>\n",
       "      <td>0</td>\n",
       "      <td>NaN</td>\n",
       "      <td>NaN</td>\n",
       "      <td>NaN</td>\n",
       "    </tr>\n",
       "    <tr>\n",
       "      <th>2</th>\n",
       "      <td>202401</td>\n",
       "      <td>2024</td>\n",
       "      <td>1</td>\n",
       "      <td>Mar 22, 2024</td>\n",
       "      <td>MA Chidambaram Stadium, Chennai</td>\n",
       "      <td>RCB</td>\n",
       "      <td>CSK</td>\n",
       "      <td>1</td>\n",
       "      <td>0.2</td>\n",
       "      <td>du Plessis</td>\n",
       "      <td>Chahar</td>\n",
       "      <td>0</td>\n",
       "      <td>0</td>\n",
       "      <td>0</td>\n",
       "      <td>0</td>\n",
       "      <td>0</td>\n",
       "      <td>0</td>\n",
       "      <td>NaN</td>\n",
       "      <td>NaN</td>\n",
       "      <td>NaN</td>\n",
       "    </tr>\n",
       "    <tr>\n",
       "      <th>3</th>\n",
       "      <td>202401</td>\n",
       "      <td>2024</td>\n",
       "      <td>1</td>\n",
       "      <td>Mar 22, 2024</td>\n",
       "      <td>MA Chidambaram Stadium, Chennai</td>\n",
       "      <td>RCB</td>\n",
       "      <td>CSK</td>\n",
       "      <td>1</td>\n",
       "      <td>0.3</td>\n",
       "      <td>du Plessis</td>\n",
       "      <td>Chahar</td>\n",
       "      <td>0</td>\n",
       "      <td>0</td>\n",
       "      <td>0</td>\n",
       "      <td>0</td>\n",
       "      <td>0</td>\n",
       "      <td>0</td>\n",
       "      <td>NaN</td>\n",
       "      <td>NaN</td>\n",
       "      <td>NaN</td>\n",
       "    </tr>\n",
       "    <tr>\n",
       "      <th>4</th>\n",
       "      <td>202401</td>\n",
       "      <td>2024</td>\n",
       "      <td>1</td>\n",
       "      <td>Mar 22, 2024</td>\n",
       "      <td>MA Chidambaram Stadium, Chennai</td>\n",
       "      <td>RCB</td>\n",
       "      <td>CSK</td>\n",
       "      <td>1</td>\n",
       "      <td>0.4</td>\n",
       "      <td>du Plessis</td>\n",
       "      <td>Chahar</td>\n",
       "      <td>0</td>\n",
       "      <td>0</td>\n",
       "      <td>0</td>\n",
       "      <td>0</td>\n",
       "      <td>0</td>\n",
       "      <td>0</td>\n",
       "      <td>NaN</td>\n",
       "      <td>NaN</td>\n",
       "      <td>NaN</td>\n",
       "    </tr>\n",
       "  </tbody>\n",
       "</table>\n",
       "</div>"
      ],
      "text/plain": [
       "   match_id  season  match_no          date                            venue  \\\n",
       "0    202401    2024         1  Mar 22, 2024  MA Chidambaram Stadium, Chennai   \n",
       "1    202401    2024         1  Mar 22, 2024  MA Chidambaram Stadium, Chennai   \n",
       "2    202401    2024         1  Mar 22, 2024  MA Chidambaram Stadium, Chennai   \n",
       "3    202401    2024         1  Mar 22, 2024  MA Chidambaram Stadium, Chennai   \n",
       "4    202401    2024         1  Mar 22, 2024  MA Chidambaram Stadium, Chennai   \n",
       "\n",
       "  batting_team bowling_team  innings  over     striker  bowler  runs_of_bat  \\\n",
       "0          RCB          CSK        1   0.1       Kohli  Chahar            0   \n",
       "1          RCB          CSK        1   0.1       Kohli  Chahar            1   \n",
       "2          RCB          CSK        1   0.2  du Plessis  Chahar            0   \n",
       "3          RCB          CSK        1   0.3  du Plessis  Chahar            0   \n",
       "4          RCB          CSK        1   0.4  du Plessis  Chahar            0   \n",
       "\n",
       "   extras  wide  legbyes  byes  noballs wicket_type player_dismissed fielder  \n",
       "0       1     1        0     0        0         NaN              NaN     NaN  \n",
       "1       0     0        0     0        0         NaN              NaN     NaN  \n",
       "2       0     0        0     0        0         NaN              NaN     NaN  \n",
       "3       0     0        0     0        0         NaN              NaN     NaN  \n",
       "4       0     0        0     0        0         NaN              NaN     NaN  "
      ]
     },
     "execution_count": 1,
     "metadata": {},
     "output_type": "execute_result"
    }
   ],
   "source": [
    "import pandas as pd\n",
    "from matplotlib import pyplot as plt\n",
    "import seaborn as sns\n",
    "d= pd.read_csv('ipl_2024_deliveries.csv')\n",
    "d.head()"
   ]
  },
  {
   "cell_type": "code",
   "execution_count": 2,
   "id": "7f3f3ca9-f600-475d-9ad5-822d9e7911f6",
   "metadata": {},
   "outputs": [
    {
     "data": {
      "text/html": [
       "<div>\n",
       "<style scoped>\n",
       "    .dataframe tbody tr th:only-of-type {\n",
       "        vertical-align: middle;\n",
       "    }\n",
       "\n",
       "    .dataframe tbody tr th {\n",
       "        vertical-align: top;\n",
       "    }\n",
       "\n",
       "    .dataframe thead th {\n",
       "        text-align: right;\n",
       "    }\n",
       "</style>\n",
       "<table border=\"1\" class=\"dataframe\">\n",
       "  <thead>\n",
       "    <tr style=\"text-align: right;\">\n",
       "      <th></th>\n",
       "      <th>match_id</th>\n",
       "      <th>season</th>\n",
       "      <th>date</th>\n",
       "      <th>match_no</th>\n",
       "      <th>venue</th>\n",
       "      <th>city</th>\n",
       "      <th>team1</th>\n",
       "      <th>team2</th>\n",
       "      <th>toss_winner</th>\n",
       "      <th>toss_decision</th>\n",
       "      <th>...</th>\n",
       "      <th>innings2_wickets</th>\n",
       "      <th>winning_team</th>\n",
       "      <th>margin</th>\n",
       "      <th>won_by</th>\n",
       "      <th>player_of_the_match</th>\n",
       "      <th>team1_players</th>\n",
       "      <th>team2_players</th>\n",
       "      <th>umpire1</th>\n",
       "      <th>umpire2</th>\n",
       "      <th>umpire3</th>\n",
       "    </tr>\n",
       "  </thead>\n",
       "  <tbody>\n",
       "    <tr>\n",
       "      <th>0</th>\n",
       "      <td>202401</td>\n",
       "      <td>2024</td>\n",
       "      <td>2024-03-22</td>\n",
       "      <td>1</td>\n",
       "      <td>MA Chidambaram Stadium, Chepauk, Chennai</td>\n",
       "      <td>Chennai</td>\n",
       "      <td>RCB</td>\n",
       "      <td>CSK</td>\n",
       "      <td>RCB</td>\n",
       "      <td>bat</td>\n",
       "      <td>...</td>\n",
       "      <td>4.0</td>\n",
       "      <td>CSK</td>\n",
       "      <td>6.0</td>\n",
       "      <td>wickets</td>\n",
       "      <td>Mustafizur Rahman</td>\n",
       "      <td>V Kohli, F du Plessis, RM Patidar, GJ Maxwell,...</td>\n",
       "      <td>RD Gaikwad, R Ravindra, AM Rahane, DJ Mitchell...</td>\n",
       "      <td>HAS Khalid</td>\n",
       "      <td>VK Sharma</td>\n",
       "      <td>Nitin Menon</td>\n",
       "    </tr>\n",
       "    <tr>\n",
       "      <th>1</th>\n",
       "      <td>202402</td>\n",
       "      <td>2024</td>\n",
       "      <td>2024-03-23</td>\n",
       "      <td>2</td>\n",
       "      <td>Maharaja Yadavindra Singh International Cricke...</td>\n",
       "      <td>Mohali</td>\n",
       "      <td>DC</td>\n",
       "      <td>PBKS</td>\n",
       "      <td>PBKS</td>\n",
       "      <td>field</td>\n",
       "      <td>...</td>\n",
       "      <td>6.0</td>\n",
       "      <td>PBKS</td>\n",
       "      <td>4.0</td>\n",
       "      <td>wickets</td>\n",
       "      <td>SM Curran</td>\n",
       "      <td>DA Warner, MR Marsh, SD Hope, RR Pant, RK Bhui...</td>\n",
       "      <td>Arshdeep Singh, S Dhawan, JM Bairstow, P Simra...</td>\n",
       "      <td>J Madanagopal</td>\n",
       "      <td>NA Patwardhan</td>\n",
       "      <td>AG Wharf</td>\n",
       "    </tr>\n",
       "    <tr>\n",
       "      <th>2</th>\n",
       "      <td>202403</td>\n",
       "      <td>2024</td>\n",
       "      <td>2024-03-23</td>\n",
       "      <td>3</td>\n",
       "      <td>Eden Gardens, Kolkata</td>\n",
       "      <td>Kolkata</td>\n",
       "      <td>KKR</td>\n",
       "      <td>SRH</td>\n",
       "      <td>SRH</td>\n",
       "      <td>field</td>\n",
       "      <td>...</td>\n",
       "      <td>7.0</td>\n",
       "      <td>KKR</td>\n",
       "      <td>4.0</td>\n",
       "      <td>runs</td>\n",
       "      <td>AD Russell</td>\n",
       "      <td>Suyash Sharma, PD Salt, SP Narine, VR Iyer, SS...</td>\n",
       "      <td>T Natarajan, MA Agarwal, Abhishek Sharma, RA T...</td>\n",
       "      <td>R Pandit</td>\n",
       "      <td>YC Barde</td>\n",
       "      <td>BNJ Oxenford</td>\n",
       "    </tr>\n",
       "    <tr>\n",
       "      <th>3</th>\n",
       "      <td>202404</td>\n",
       "      <td>2024</td>\n",
       "      <td>2024-03-24</td>\n",
       "      <td>4</td>\n",
       "      <td>Sawai Mansingh Stadium, Jaipur</td>\n",
       "      <td>Jaipur</td>\n",
       "      <td>RR</td>\n",
       "      <td>LSG</td>\n",
       "      <td>RR</td>\n",
       "      <td>bat</td>\n",
       "      <td>...</td>\n",
       "      <td>6.0</td>\n",
       "      <td>RR</td>\n",
       "      <td>20.0</td>\n",
       "      <td>runs</td>\n",
       "      <td>SV Samson</td>\n",
       "      <td>YBK Jaiswal, JC Buttler, SV Samson, R Parag, S...</td>\n",
       "      <td>Q de Kock, KL Rahul, D Padikkal, A Badoni, DJ ...</td>\n",
       "      <td>A Totre</td>\n",
       "      <td>HDPK Dharmasena</td>\n",
       "      <td>KN Ananthapadmanabhan</td>\n",
       "    </tr>\n",
       "    <tr>\n",
       "      <th>4</th>\n",
       "      <td>202405</td>\n",
       "      <td>2024</td>\n",
       "      <td>2024-03-24</td>\n",
       "      <td>5</td>\n",
       "      <td>Narendra Modi Stadium, Ahmedabad</td>\n",
       "      <td>Ahmedabad</td>\n",
       "      <td>GT</td>\n",
       "      <td>MI</td>\n",
       "      <td>MI</td>\n",
       "      <td>field</td>\n",
       "      <td>...</td>\n",
       "      <td>9.0</td>\n",
       "      <td>GT</td>\n",
       "      <td>6.0</td>\n",
       "      <td>runs</td>\n",
       "      <td>B Sai Sudharsan</td>\n",
       "      <td>MM Sharma, WP Saha, Shubman Gill, B Sai Sudhar...</td>\n",
       "      <td>L Wood, Ishan Kishan, RG Sharma, Naman Dhir, D...</td>\n",
       "      <td>VA Kulkarni</td>\n",
       "      <td>VK Sharma</td>\n",
       "      <td>Nitin Menon</td>\n",
       "    </tr>\n",
       "  </tbody>\n",
       "</table>\n",
       "<p>5 rows × 23 columns</p>\n",
       "</div>"
      ],
      "text/plain": [
       "   match_id  season        date  match_no  \\\n",
       "0    202401    2024  2024-03-22         1   \n",
       "1    202402    2024  2024-03-23         2   \n",
       "2    202403    2024  2024-03-23         3   \n",
       "3    202404    2024  2024-03-24         4   \n",
       "4    202405    2024  2024-03-24         5   \n",
       "\n",
       "                                               venue       city team1 team2  \\\n",
       "0           MA Chidambaram Stadium, Chepauk, Chennai    Chennai   RCB   CSK   \n",
       "1  Maharaja Yadavindra Singh International Cricke...     Mohali    DC  PBKS   \n",
       "2                              Eden Gardens, Kolkata    Kolkata   KKR   SRH   \n",
       "3                     Sawai Mansingh Stadium, Jaipur     Jaipur    RR   LSG   \n",
       "4                   Narendra Modi Stadium, Ahmedabad  Ahmedabad    GT    MI   \n",
       "\n",
       "  toss_winner toss_decision  ...  innings2_wickets  winning_team  margin  \\\n",
       "0         RCB           bat  ...               4.0           CSK     6.0   \n",
       "1        PBKS         field  ...               6.0          PBKS     4.0   \n",
       "2         SRH         field  ...               7.0           KKR     4.0   \n",
       "3          RR           bat  ...               6.0            RR    20.0   \n",
       "4          MI         field  ...               9.0            GT     6.0   \n",
       "\n",
       "    won_by player_of_the_match  \\\n",
       "0  wickets   Mustafizur Rahman   \n",
       "1  wickets           SM Curran   \n",
       "2     runs          AD Russell   \n",
       "3     runs           SV Samson   \n",
       "4     runs     B Sai Sudharsan   \n",
       "\n",
       "                                       team1_players  \\\n",
       "0  V Kohli, F du Plessis, RM Patidar, GJ Maxwell,...   \n",
       "1  DA Warner, MR Marsh, SD Hope, RR Pant, RK Bhui...   \n",
       "2  Suyash Sharma, PD Salt, SP Narine, VR Iyer, SS...   \n",
       "3  YBK Jaiswal, JC Buttler, SV Samson, R Parag, S...   \n",
       "4  MM Sharma, WP Saha, Shubman Gill, B Sai Sudhar...   \n",
       "\n",
       "                                       team2_players        umpire1  \\\n",
       "0  RD Gaikwad, R Ravindra, AM Rahane, DJ Mitchell...     HAS Khalid   \n",
       "1  Arshdeep Singh, S Dhawan, JM Bairstow, P Simra...  J Madanagopal   \n",
       "2  T Natarajan, MA Agarwal, Abhishek Sharma, RA T...       R Pandit   \n",
       "3  Q de Kock, KL Rahul, D Padikkal, A Badoni, DJ ...        A Totre   \n",
       "4  L Wood, Ishan Kishan, RG Sharma, Naman Dhir, D...    VA Kulkarni   \n",
       "\n",
       "           umpire2                umpire3  \n",
       "0        VK Sharma            Nitin Menon  \n",
       "1    NA Patwardhan               AG Wharf  \n",
       "2         YC Barde           BNJ Oxenford  \n",
       "3  HDPK Dharmasena  KN Ananthapadmanabhan  \n",
       "4        VK Sharma            Nitin Menon  \n",
       "\n",
       "[5 rows x 23 columns]"
      ]
     },
     "execution_count": 2,
     "metadata": {},
     "output_type": "execute_result"
    }
   ],
   "source": [
    "m=pd.read_csv('ipl_2024_matches.csv')\n",
    "m.head()"
   ]
  },
  {
   "cell_type": "code",
   "execution_count": 3,
   "id": "b746c8f8-35a2-41f3-a1df-434237b30fde",
   "metadata": {},
   "outputs": [
    {
     "data": {
      "text/plain": [
       "(74, 23)"
      ]
     },
     "execution_count": 3,
     "metadata": {},
     "output_type": "execute_result"
    }
   ],
   "source": [
    "#looking at the number of rows and columns in the dataset of matches\n",
    "m.shape"
   ]
  },
  {
   "cell_type": "code",
   "execution_count": 4,
   "id": "911a423e-cca0-40aa-a6e4-00ea1b220c7e",
   "metadata": {},
   "outputs": [
    {
     "data": {
      "text/plain": [
       "player_of_the_match\n",
       "TM Head                3\n",
       "Abhishek Sharma        3\n",
       "SP Narine              3\n",
       "JC Buttler             2\n",
       "RR Pant                2\n",
       "SM Curran              2\n",
       "CV Varun               2\n",
       "Kuldeep Yadav          2\n",
       "JJ Bumrah              2\n",
       "RA Jadeja              2\n",
       "MP Stoinis             2\n",
       "MA Starc               2\n",
       "V Kohli                2\n",
       "MP Yadav               2\n",
       "AD Russell             2\n",
       "SV Samson              2\n",
       "J Fraser-McGurk        1\n",
       "WG Jacks               1\n",
       "RD Gaikwad             1\n",
       "R Ashwin               1\n",
       "Harpreet Brar          1\n",
       "B Kumar                1\n",
       "N Pooran               1\n",
       "I Sharma               1\n",
       "VR Iyer                1\n",
       "Mohammed Siraj         1\n",
       "F du Plessis           1\n",
       "SA Yadav               1\n",
       "JM Bairstow            1\n",
       "Simarjeet Singh        1\n",
       "C Green                1\n",
       "Shubman Gill           1\n",
       "Mustafizur Rahman      1\n",
       "RM Patidar             1\n",
       "R Shepherd             1\n",
       "B Sai Sudharsan        1\n",
       "S Dube                 1\n",
       "R Parag                1\n",
       "MM Sharma              1\n",
       "KK Ahmed               1\n",
       "TA Boult               1\n",
       "Shashank Singh         1\n",
       "Yash Thakur            1\n",
       "Sandeep Sharma         1\n",
       "Nithish Kumar Reddy    1\n",
       "Rashid Khan            1\n",
       "SO Hetmyer             1\n",
       "PD Salt                1\n",
       "M Pathirana            1\n",
       "KL Rahul               1\n",
       "R Sai Kishore          1\n",
       "Shahbaz Ahmed          1\n",
       "Name: count, dtype: int64"
      ]
     },
     "execution_count": 4,
     "metadata": {},
     "output_type": "execute_result"
    }
   ],
   "source": [
    "#getting the frequency of most man of the match awards\n",
    "m['player_of_the_match'].value_counts()"
   ]
  },
  {
   "cell_type": "code",
   "execution_count": 5,
   "id": "b852aa8f-2862-4f32-8368-750e2b267887",
   "metadata": {},
   "outputs": [
    {
     "data": {
      "text/plain": [
       "player_of_the_match\n",
       "TM Head            3\n",
       "Abhishek Sharma    3\n",
       "SP Narine          3\n",
       "JC Buttler         2\n",
       "RR Pant            2\n",
       "Name: count, dtype: int64"
      ]
     },
     "execution_count": 5,
     "metadata": {},
     "output_type": "execute_result"
    }
   ],
   "source": [
    "#getting the top 5 players with most man of the match\n",
    "m['player_of_the_match'].value_counts()[0:5]"
   ]
  },
  {
   "cell_type": "code",
   "execution_count": 8,
   "id": "2ef72ead-edce-4902-9d5d-d6b82f97d586",
   "metadata": {},
   "outputs": [
    {
     "data": {
      "text/plain": [
       "['TM Head', 'Abhishek Sharma', 'SP Narine', 'JC Buttler', 'RR Pant']"
      ]
     },
     "execution_count": 8,
     "metadata": {},
     "output_type": "execute_result"
    }
   ],
   "source": [
    "list(m['player_of_the_match'].value_counts()[0:5].keys())"
   ]
  },
  {
   "cell_type": "code",
   "execution_count": 10,
   "id": "fc02bb4d-b3ce-41a2-8aba-88e1a28811e5",
   "metadata": {},
   "outputs": [
    {
     "data": {
      "image/png": "[encoded data removed]",
      "text/plain": [
       "<Figure size 800x500 with 1 Axes>"
      ]
     },
     "metadata": {},
     "output_type": "display_data"
    }
   ],
   "source": [
    "#getting the barplot of top 5 man of the match\n",
    "plt.figure(figsize=(8,5))\n",
    "plt.bar(list(m['player_of_the_match'].value_counts()[0:5].keys()),list(m['player_of_the_match'].value_counts()[0:5]),color=\"g\")\n",
    "plt.show()\n",
    "        "
   ]
  },
  {
   "cell_type": "code",
   "execution_count": 11,
   "id": "addf7803-5963-4f3f-918d-81c54dfc55e6",
   "metadata": {},
   "outputs": [
    {
     "data": {
      "text/plain": [
       "toss_winner\n",
       "RR         11\n",
       "PBKS       10\n",
       "MI         10\n",
       "LSG         9\n",
       "RCB         8\n",
       "SRH         7\n",
       "DC          7\n",
       "GT          3\n",
       "KKR         3\n",
       "CSK         3\n",
       "No Toss     2\n",
       "KK          1\n",
       "Name: count, dtype: int64"
      ]
     },
     "execution_count": 11,
     "metadata": {},
     "output_type": "execute_result"
    }
   ],
   "source": [
    "#Finding out the number of toss wins\n",
    "m['toss_winner'].value_counts()\n"
   ]
  },
  {
   "cell_type": "code",
   "execution_count": 12,
   "id": "c4fb16ff-9a7a-4046-9a33-704030475551",
   "metadata": {},
   "outputs": [],
   "source": [
    "#extracting the records where a team won batting first\n",
    "batting_first=m[m['won_by']!='wickets']"
   ]
  },
  {
   "cell_type": "code",
   "execution_count": 13,
   "id": "f8680dd0-63f1-43fc-b1fc-ec8a9cd29df9",
   "metadata": {},
   "outputs": [
    {
     "data": {
      "text/html": [
       "<div>\n",
       "<style scoped>\n",
       "    .dataframe tbody tr th:only-of-type {\n",
       "        vertical-align: middle;\n",
       "    }\n",
       "\n",
       "    .dataframe tbody tr th {\n",
       "        vertical-align: top;\n",
       "    }\n",
       "\n",
       "    .dataframe thead th {\n",
       "        text-align: right;\n",
       "    }\n",
       "</style>\n",
       "<table border=\"1\" class=\"dataframe\">\n",
       "  <thead>\n",
       "    <tr style=\"text-align: right;\">\n",
       "      <th></th>\n",
       "      <th>match_id</th>\n",
       "      <th>season</th>\n",
       "      <th>date</th>\n",
       "      <th>match_no</th>\n",
       "      <th>venue</th>\n",
       "      <th>city</th>\n",
       "      <th>team1</th>\n",
       "      <th>team2</th>\n",
       "      <th>toss_winner</th>\n",
       "      <th>toss_decision</th>\n",
       "      <th>...</th>\n",
       "      <th>innings2_wickets</th>\n",
       "      <th>winning_team</th>\n",
       "      <th>margin</th>\n",
       "      <th>won_by</th>\n",
       "      <th>player_of_the_match</th>\n",
       "      <th>team1_players</th>\n",
       "      <th>team2_players</th>\n",
       "      <th>umpire1</th>\n",
       "      <th>umpire2</th>\n",
       "      <th>umpire3</th>\n",
       "    </tr>\n",
       "  </thead>\n",
       "  <tbody>\n",
       "    <tr>\n",
       "      <th>2</th>\n",
       "      <td>202403</td>\n",
       "      <td>2024</td>\n",
       "      <td>2024-03-23</td>\n",
       "      <td>3</td>\n",
       "      <td>Eden Gardens, Kolkata</td>\n",
       "      <td>Kolkata</td>\n",
       "      <td>KKR</td>\n",
       "      <td>SRH</td>\n",
       "      <td>SRH</td>\n",
       "      <td>field</td>\n",
       "      <td>...</td>\n",
       "      <td>7.0</td>\n",
       "      <td>KKR</td>\n",
       "      <td>4.0</td>\n",
       "      <td>runs</td>\n",
       "      <td>AD Russell</td>\n",
       "      <td>Suyash Sharma, PD Salt, SP Narine, VR Iyer, SS...</td>\n",
       "      <td>T Natarajan, MA Agarwal, Abhishek Sharma, RA T...</td>\n",
       "      <td>R Pandit</td>\n",
       "      <td>YC Barde</td>\n",
       "      <td>BNJ Oxenford</td>\n",
       "    </tr>\n",
       "    <tr>\n",
       "      <th>3</th>\n",
       "      <td>202404</td>\n",
       "      <td>2024</td>\n",
       "      <td>2024-03-24</td>\n",
       "      <td>4</td>\n",
       "      <td>Sawai Mansingh Stadium, Jaipur</td>\n",
       "      <td>Jaipur</td>\n",
       "      <td>RR</td>\n",
       "      <td>LSG</td>\n",
       "      <td>RR</td>\n",
       "      <td>bat</td>\n",
       "      <td>...</td>\n",
       "      <td>6.0</td>\n",
       "      <td>RR</td>\n",
       "      <td>20.0</td>\n",
       "      <td>runs</td>\n",
       "      <td>SV Samson</td>\n",
       "      <td>YBK Jaiswal, JC Buttler, SV Samson, R Parag, S...</td>\n",
       "      <td>Q de Kock, KL Rahul, D Padikkal, A Badoni, DJ ...</td>\n",
       "      <td>A Totre</td>\n",
       "      <td>HDPK Dharmasena</td>\n",
       "      <td>KN Ananthapadmanabhan</td>\n",
       "    </tr>\n",
       "    <tr>\n",
       "      <th>4</th>\n",
       "      <td>202405</td>\n",
       "      <td>2024</td>\n",
       "      <td>2024-03-24</td>\n",
       "      <td>5</td>\n",
       "      <td>Narendra Modi Stadium, Ahmedabad</td>\n",
       "      <td>Ahmedabad</td>\n",
       "      <td>GT</td>\n",
       "      <td>MI</td>\n",
       "      <td>MI</td>\n",
       "      <td>field</td>\n",
       "      <td>...</td>\n",
       "      <td>9.0</td>\n",
       "      <td>GT</td>\n",
       "      <td>6.0</td>\n",
       "      <td>runs</td>\n",
       "      <td>B Sai Sudharsan</td>\n",
       "      <td>MM Sharma, WP Saha, Shubman Gill, B Sai Sudhar...</td>\n",
       "      <td>L Wood, Ishan Kishan, RG Sharma, Naman Dhir, D...</td>\n",
       "      <td>VA Kulkarni</td>\n",
       "      <td>VK Sharma</td>\n",
       "      <td>Nitin Menon</td>\n",
       "    </tr>\n",
       "    <tr>\n",
       "      <th>6</th>\n",
       "      <td>202407</td>\n",
       "      <td>2024</td>\n",
       "      <td>2024-03-26</td>\n",
       "      <td>7</td>\n",
       "      <td>MA Chidambaram Stadium, Chepauk, Chennai</td>\n",
       "      <td>Chennai</td>\n",
       "      <td>CSK</td>\n",
       "      <td>GT</td>\n",
       "      <td>GT</td>\n",
       "      <td>field</td>\n",
       "      <td>...</td>\n",
       "      <td>8.0</td>\n",
       "      <td>CSK</td>\n",
       "      <td>63.0</td>\n",
       "      <td>runs</td>\n",
       "      <td>S Dube</td>\n",
       "      <td>M Pathirana, RD Gaikwad, R Ravindra, AM Rahane...</td>\n",
       "      <td>MM Sharma, WP Saha, Shubman Gill, B Sai Sudhar...</td>\n",
       "      <td>AG Wharf</td>\n",
       "      <td>Tapan Sharma</td>\n",
       "      <td>J Madanagopal</td>\n",
       "    </tr>\n",
       "    <tr>\n",
       "      <th>7</th>\n",
       "      <td>202408</td>\n",
       "      <td>2024</td>\n",
       "      <td>2024-03-27</td>\n",
       "      <td>8</td>\n",
       "      <td>Rajiv Gandhi International Stadium, Uppal, Hyd...</td>\n",
       "      <td>Hyderabad</td>\n",
       "      <td>SRH</td>\n",
       "      <td>MI</td>\n",
       "      <td>MI</td>\n",
       "      <td>field</td>\n",
       "      <td>...</td>\n",
       "      <td>5.0</td>\n",
       "      <td>SRH</td>\n",
       "      <td>31.0</td>\n",
       "      <td>runs</td>\n",
       "      <td>Abhishek Sharma</td>\n",
       "      <td>Umran Malik, MA Agarwal, TM Head, Abhishek Sha...</td>\n",
       "      <td>KT Maphaka, RG Sharma, Ishan Kishan, Naman Dhi...</td>\n",
       "      <td>KN Ananthapadmanabhan</td>\n",
       "      <td>UV Gandhe</td>\n",
       "      <td>HDPK Dharmasena</td>\n",
       "    </tr>\n",
       "  </tbody>\n",
       "</table>\n",
       "<p>5 rows × 23 columns</p>\n",
       "</div>"
      ],
      "text/plain": [
       "   match_id  season        date  match_no  \\\n",
       "2    202403    2024  2024-03-23         3   \n",
       "3    202404    2024  2024-03-24         4   \n",
       "4    202405    2024  2024-03-24         5   \n",
       "6    202407    2024  2024-03-26         7   \n",
       "7    202408    2024  2024-03-27         8   \n",
       "\n",
       "                                               venue       city team1 team2  \\\n",
       "2                              Eden Gardens, Kolkata    Kolkata   KKR   SRH   \n",
       "3                     Sawai Mansingh Stadium, Jaipur     Jaipur    RR   LSG   \n",
       "4                   Narendra Modi Stadium, Ahmedabad  Ahmedabad    GT    MI   \n",
       "6           MA Chidambaram Stadium, Chepauk, Chennai    Chennai   CSK    GT   \n",
       "7  Rajiv Gandhi International Stadium, Uppal, Hyd...  Hyderabad   SRH    MI   \n",
       "\n",
       "  toss_winner toss_decision  ...  innings2_wickets  winning_team  margin  \\\n",
       "2         SRH         field  ...               7.0           KKR     4.0   \n",
       "3          RR           bat  ...               6.0            RR    20.0   \n",
       "4          MI         field  ...               9.0            GT     6.0   \n",
       "6          GT         field  ...               8.0           CSK    63.0   \n",
       "7          MI         field  ...               5.0           SRH    31.0   \n",
       "\n",
       "   won_by player_of_the_match  \\\n",
       "2    runs          AD Russell   \n",
       "3    runs           SV Samson   \n",
       "4    runs     B Sai Sudharsan   \n",
       "6    runs              S Dube   \n",
       "7    runs     Abhishek Sharma   \n",
       "\n",
       "                                       team1_players  \\\n",
       "2  Suyash Sharma, PD Salt, SP Narine, VR Iyer, SS...   \n",
       "3  YBK Jaiswal, JC Buttler, SV Samson, R Parag, S...   \n",
       "4  MM Sharma, WP Saha, Shubman Gill, B Sai Sudhar...   \n",
       "6  M Pathirana, RD Gaikwad, R Ravindra, AM Rahane...   \n",
       "7  Umran Malik, MA Agarwal, TM Head, Abhishek Sha...   \n",
       "\n",
       "                                       team2_players                umpire1  \\\n",
       "2  T Natarajan, MA Agarwal, Abhishek Sharma, RA T...               R Pandit   \n",
       "3  Q de Kock, KL Rahul, D Padikkal, A Badoni, DJ ...                A Totre   \n",
       "4  L Wood, Ishan Kishan, RG Sharma, Naman Dhir, D...            VA Kulkarni   \n",
       "6  MM Sharma, WP Saha, Shubman Gill, B Sai Sudhar...               AG Wharf   \n",
       "7  KT Maphaka, RG Sharma, Ishan Kishan, Naman Dhi...  KN Ananthapadmanabhan   \n",
       "\n",
       "           umpire2                umpire3  \n",
       "2         YC Barde           BNJ Oxenford  \n",
       "3  HDPK Dharmasena  KN Ananthapadmanabhan  \n",
       "4        VK Sharma            Nitin Menon  \n",
       "6     Tapan Sharma          J Madanagopal  \n",
       "7        UV Gandhe        HDPK Dharmasena  \n",
       "\n",
       "[5 rows x 23 columns]"
      ]
     },
     "execution_count": 13,
     "metadata": {},
     "output_type": "execute_result"
    }
   ],
   "source": [
    "batting_first.head()"
   ]
  },
  {
   "cell_type": "code",
   "execution_count": 16,
   "id": "78b62fc7-d34b-4fc4-9da1-af666fd9a6e6",
   "metadata": {},
   "outputs": [
    {
     "data": {
      "text/plain": [
       "winning_team\n",
       "KKR    6\n",
       "SRH    6\n",
       "DC     5\n",
       "CSK    4\n",
       "LSG    4\n",
       "RCB    4\n",
       "RR     2\n",
       "GT     2\n",
       "MI     2\n",
       "Name: count, dtype: int64"
      ]
     },
     "execution_count": 16,
     "metadata": {},
     "output_type": "execute_result"
    }
   ],
   "source": [
    "#finding out the number of wins w.r.t each team after batting first\n",
    "batting_first['winning_team'].value_counts()"
   ]
  },
  {
   "cell_type": "code",
   "execution_count": 18,
   "id": "95fa5f8e-3b86-43eb-8378-38efdfe8508f",
   "metadata": {},
   "outputs": [
    {
     "data": {
      "image/png": "[encoded data removed]",
      "text/plain": [
       "<Figure size 600x600 with 1 Axes>"
      ]
     },
     "metadata": {},
     "output_type": "display_data"
    }
   ],
   "source": [
    "#making a bar-plot for top 3 teams with most wins after batting first\n",
    "plt.figure(figsize=(6,6))\n",
    "plt.bar(list(batting_first['winning_team'].value_counts()[0:3].keys()),list(batting_first['winning_team'].value_counts()[0:3]),color=[\"purple\",\"orange\",\"blue\"])\n",
    "plt.show()"
   ]
  },
  {
   "cell_type": "code",
   "execution_count": 21,
   "id": "9b9496d3-c389-48cc-8bdd-0e1ffc197314",
   "metadata": {},
   "outputs": [
    {
     "data": {
      "image/png": "[encoded data removed]",
      "text/plain": [
       "<Figure size 700x700 with 1 Axes>"
      ]
     },
     "metadata": {},
     "output_type": "display_data"
    }
   ],
   "source": [
    "#making a pie chart\n",
    "plt.figure(figsize=(7,7))\n",
    "plt.pie(list(batting_first['winning_team'].value_counts()),labels=list(batting_first['winning_team'].value_counts().keys()),autopct='%0.1f%%')\n",
    "plt.show()"
   ]
  },
  {
   "cell_type": "code",
   "execution_count": 22,
   "id": "f7381f26-1ee6-4a67-b457-70a680aac9e8",
   "metadata": {},
   "outputs": [
    {
     "data": {
      "text/html": [
       "<div>\n",
       "<style scoped>\n",
       "    .dataframe tbody tr th:only-of-type {\n",
       "        vertical-align: middle;\n",
       "    }\n",
       "\n",
       "    .dataframe tbody tr th {\n",
       "        vertical-align: top;\n",
       "    }\n",
       "\n",
       "    .dataframe thead th {\n",
       "        text-align: right;\n",
       "    }\n",
       "</style>\n",
       "<table border=\"1\" class=\"dataframe\">\n",
       "  <thead>\n",
       "    <tr style=\"text-align: right;\">\n",
       "      <th></th>\n",
       "      <th>match_id</th>\n",
       "      <th>season</th>\n",
       "      <th>date</th>\n",
       "      <th>match_no</th>\n",
       "      <th>venue</th>\n",
       "      <th>city</th>\n",
       "      <th>team1</th>\n",
       "      <th>team2</th>\n",
       "      <th>toss_winner</th>\n",
       "      <th>toss_decision</th>\n",
       "      <th>...</th>\n",
       "      <th>innings2_wickets</th>\n",
       "      <th>winning_team</th>\n",
       "      <th>margin</th>\n",
       "      <th>won_by</th>\n",
       "      <th>player_of_the_match</th>\n",
       "      <th>team1_players</th>\n",
       "      <th>team2_players</th>\n",
       "      <th>umpire1</th>\n",
       "      <th>umpire2</th>\n",
       "      <th>umpire3</th>\n",
       "    </tr>\n",
       "  </thead>\n",
       "  <tbody>\n",
       "    <tr>\n",
       "      <th>0</th>\n",
       "      <td>202401</td>\n",
       "      <td>2024</td>\n",
       "      <td>2024-03-22</td>\n",
       "      <td>1</td>\n",
       "      <td>MA Chidambaram Stadium, Chepauk, Chennai</td>\n",
       "      <td>Chennai</td>\n",
       "      <td>RCB</td>\n",
       "      <td>CSK</td>\n",
       "      <td>RCB</td>\n",
       "      <td>bat</td>\n",
       "      <td>...</td>\n",
       "      <td>4.0</td>\n",
       "      <td>CSK</td>\n",
       "      <td>6.0</td>\n",
       "      <td>wickets</td>\n",
       "      <td>Mustafizur Rahman</td>\n",
       "      <td>V Kohli, F du Plessis, RM Patidar, GJ Maxwell,...</td>\n",
       "      <td>RD Gaikwad, R Ravindra, AM Rahane, DJ Mitchell...</td>\n",
       "      <td>HAS Khalid</td>\n",
       "      <td>VK Sharma</td>\n",
       "      <td>Nitin Menon</td>\n",
       "    </tr>\n",
       "    <tr>\n",
       "      <th>1</th>\n",
       "      <td>202402</td>\n",
       "      <td>2024</td>\n",
       "      <td>2024-03-23</td>\n",
       "      <td>2</td>\n",
       "      <td>Maharaja Yadavindra Singh International Cricke...</td>\n",
       "      <td>Mohali</td>\n",
       "      <td>DC</td>\n",
       "      <td>PBKS</td>\n",
       "      <td>PBKS</td>\n",
       "      <td>field</td>\n",
       "      <td>...</td>\n",
       "      <td>6.0</td>\n",
       "      <td>PBKS</td>\n",
       "      <td>4.0</td>\n",
       "      <td>wickets</td>\n",
       "      <td>SM Curran</td>\n",
       "      <td>DA Warner, MR Marsh, SD Hope, RR Pant, RK Bhui...</td>\n",
       "      <td>Arshdeep Singh, S Dhawan, JM Bairstow, P Simra...</td>\n",
       "      <td>J Madanagopal</td>\n",
       "      <td>NA Patwardhan</td>\n",
       "      <td>AG Wharf</td>\n",
       "    </tr>\n",
       "    <tr>\n",
       "      <th>5</th>\n",
       "      <td>202406</td>\n",
       "      <td>2024</td>\n",
       "      <td>2024-03-25</td>\n",
       "      <td>6</td>\n",
       "      <td>M Chinnaswamy Stadium, Bengaluru</td>\n",
       "      <td>Bengaluru</td>\n",
       "      <td>PBKS</td>\n",
       "      <td>RCB</td>\n",
       "      <td>RCB</td>\n",
       "      <td>field</td>\n",
       "      <td>...</td>\n",
       "      <td>6.0</td>\n",
       "      <td>RCB</td>\n",
       "      <td>4.0</td>\n",
       "      <td>wickets</td>\n",
       "      <td>V Kohli</td>\n",
       "      <td>Arshdeep Singh, S Dhawan, JM Bairstow, P Simra...</td>\n",
       "      <td>Yash Dayal, V Kohli, F du Plessis, C Green, RM...</td>\n",
       "      <td>AK Chaudhary</td>\n",
       "      <td>MV Saidharshan Kumar</td>\n",
       "      <td>BNJ Oxenford</td>\n",
       "    </tr>\n",
       "    <tr>\n",
       "      <th>9</th>\n",
       "      <td>202410</td>\n",
       "      <td>2024</td>\n",
       "      <td>2024-03-29</td>\n",
       "      <td>10</td>\n",
       "      <td>M Chinnaswamy Stadium, Bengaluru</td>\n",
       "      <td>Bengaluru</td>\n",
       "      <td>RCB</td>\n",
       "      <td>KKR</td>\n",
       "      <td>KKR</td>\n",
       "      <td>field</td>\n",
       "      <td>...</td>\n",
       "      <td>3.0</td>\n",
       "      <td>KKR</td>\n",
       "      <td>7.0</td>\n",
       "      <td>wickets</td>\n",
       "      <td>SP Narine</td>\n",
       "      <td>Vijaykumar Vyshak, V Kohli, F du Plessis, C Gr...</td>\n",
       "      <td>CV Varun, PD Salt, SP Narine, VR Iyer, SS Iyer...</td>\n",
       "      <td>AK Chaudhary</td>\n",
       "      <td>R Pandit</td>\n",
       "      <td>BNJ Oxenford</td>\n",
       "    </tr>\n",
       "    <tr>\n",
       "      <th>11</th>\n",
       "      <td>202412</td>\n",
       "      <td>2024</td>\n",
       "      <td>2024-03-31</td>\n",
       "      <td>12</td>\n",
       "      <td>Narendra Modi Stadium, Ahmedabad</td>\n",
       "      <td>Ahmedabad</td>\n",
       "      <td>SRH</td>\n",
       "      <td>GT</td>\n",
       "      <td>SRH</td>\n",
       "      <td>bat</td>\n",
       "      <td>...</td>\n",
       "      <td>3.0</td>\n",
       "      <td>GT</td>\n",
       "      <td>7.0</td>\n",
       "      <td>wickets</td>\n",
       "      <td>MM Sharma</td>\n",
       "      <td>TM Head, MA Agarwal, Abhishek Sharma, AK Markr...</td>\n",
       "      <td>MM Sharma, WP Saha, Shubman Gill, B Sai Sudhar...</td>\n",
       "      <td>HAS Khalid</td>\n",
       "      <td>VK Sharma</td>\n",
       "      <td>NaN</td>\n",
       "    </tr>\n",
       "  </tbody>\n",
       "</table>\n",
       "<p>5 rows × 23 columns</p>\n",
       "</div>"
      ],
      "text/plain": [
       "    match_id  season        date  match_no  \\\n",
       "0     202401    2024  2024-03-22         1   \n",
       "1     202402    2024  2024-03-23         2   \n",
       "5     202406    2024  2024-03-25         6   \n",
       "9     202410    2024  2024-03-29        10   \n",
       "11    202412    2024  2024-03-31        12   \n",
       "\n",
       "                                                venue       city team1 team2  \\\n",
       "0            MA Chidambaram Stadium, Chepauk, Chennai    Chennai   RCB   CSK   \n",
       "1   Maharaja Yadavindra Singh International Cricke...     Mohali    DC  PBKS   \n",
       "5                    M Chinnaswamy Stadium, Bengaluru  Bengaluru  PBKS   RCB   \n",
       "9                    M Chinnaswamy Stadium, Bengaluru  Bengaluru   RCB   KKR   \n",
       "11                   Narendra Modi Stadium, Ahmedabad  Ahmedabad   SRH    GT   \n",
       "\n",
       "   toss_winner toss_decision  ...  innings2_wickets  winning_team  margin  \\\n",
       "0          RCB           bat  ...               4.0           CSK     6.0   \n",
       "1         PBKS         field  ...               6.0          PBKS     4.0   \n",
       "5          RCB         field  ...               6.0           RCB     4.0   \n",
       "9          KKR         field  ...               3.0           KKR     7.0   \n",
       "11         SRH           bat  ...               3.0            GT     7.0   \n",
       "\n",
       "     won_by player_of_the_match  \\\n",
       "0   wickets   Mustafizur Rahman   \n",
       "1   wickets           SM Curran   \n",
       "5   wickets             V Kohli   \n",
       "9   wickets           SP Narine   \n",
       "11  wickets           MM Sharma   \n",
       "\n",
       "                                        team1_players  \\\n",
       "0   V Kohli, F du Plessis, RM Patidar, GJ Maxwell,...   \n",
       "1   DA Warner, MR Marsh, SD Hope, RR Pant, RK Bhui...   \n",
       "5   Arshdeep Singh, S Dhawan, JM Bairstow, P Simra...   \n",
       "9   Vijaykumar Vyshak, V Kohli, F du Plessis, C Gr...   \n",
       "11  TM Head, MA Agarwal, Abhishek Sharma, AK Markr...   \n",
       "\n",
       "                                        team2_players        umpire1  \\\n",
       "0   RD Gaikwad, R Ravindra, AM Rahane, DJ Mitchell...     HAS Khalid   \n",
       "1   Arshdeep Singh, S Dhawan, JM Bairstow, P Simra...  J Madanagopal   \n",
       "5   Yash Dayal, V Kohli, F du Plessis, C Green, RM...   AK Chaudhary   \n",
       "9   CV Varun, PD Salt, SP Narine, VR Iyer, SS Iyer...   AK Chaudhary   \n",
       "11  MM Sharma, WP Saha, Shubman Gill, B Sai Sudhar...     HAS Khalid   \n",
       "\n",
       "                 umpire2       umpire3  \n",
       "0              VK Sharma   Nitin Menon  \n",
       "1          NA Patwardhan      AG Wharf  \n",
       "5   MV Saidharshan Kumar  BNJ Oxenford  \n",
       "9               R Pandit  BNJ Oxenford  \n",
       "11             VK Sharma           NaN  \n",
       "\n",
       "[5 rows x 23 columns]"
      ]
     },
     "execution_count": 22,
     "metadata": {},
     "output_type": "execute_result"
    }
   ],
   "source": [
    "#extracting those records where a team has won after bowling first\n",
    "batting_second=m[m['won_by']!='runs']\n",
    "batting_second.head()"
   ]
  },
  {
   "cell_type": "code",
   "execution_count": 24,
   "id": "26bafd99-705a-4459-967a-08b0d481d993",
   "metadata": {},
   "outputs": [
    {
     "data": {
      "image/png": "[encoded data removed]",
      "text/plain": [
       "<Figure size 600x600 with 1 Axes>"
      ]
     },
     "metadata": {},
     "output_type": "display_data"
    }
   ],
   "source": [
    "#making a histogram for frequency of wins w.r.t number of wickets\n",
    "plt.figure(figsize=(6,6))\n",
    "plt.hist(batting_second['margin'],bins=30)\n",
    "plt.show()"
   ]
  },
  {
   "cell_type": "code",
   "execution_count": 25,
   "id": "cec4037d-cbd5-4e2d-8218-02d5cc157249",
   "metadata": {},
   "outputs": [
    {
     "data": {
      "text/plain": [
       "winning_team\n",
       "RR      7\n",
       "PBKS    5\n",
       "KKR     5\n",
       "CSK     3\n",
       "RCB     3\n",
       "GT      3\n",
       "SRH     3\n",
       "LSG     3\n",
       "MI      2\n",
       "DC      2\n",
       "Name: count, dtype: int64"
      ]
     },
     "execution_count": 25,
     "metadata": {},
     "output_type": "execute_result"
    }
   ],
   "source": [
    "#finding out the frequency of number of wins w.r.t each team after batting second\n",
    "batting_second['winning_team'].value_counts()"
   ]
  },
  {
   "cell_type": "code",
   "execution_count": 27,
   "id": "43cba1da-d0fb-4f2a-b8b8-159b95fdc01b",
   "metadata": {},
   "outputs": [
    {
     "data": {
      "image/png": "[encoded data removed]",
      "text/plain": [
       "<Figure size 600x600 with 1 Axes>"
      ]
     },
     "metadata": {},
     "output_type": "display_data"
    }
   ],
   "source": [
    "#making a bar plot for top-3 teams with most wins after bowling first\n",
    "plt.figure(figsize=(6,6))\n",
    "plt.bar(list(batting_second['winning_team'].value_counts()[0:3].keys()),list(batting_second['winning_team'].value_counts()[0:3]),color=[\"Pink\",\"Red\",\"Purple\"])\n",
    "plt.show()"
   ]
  },
  {
   "cell_type": "code",
   "execution_count": 28,
   "id": "07e30144-45e2-46dd-b83f-839b71ab014e",
   "metadata": {},
   "outputs": [
    {
     "data": {
      "image/png": "[encoded data removed]",
      "text/plain": [
       "<Figure size 700x700 with 1 Axes>"
      ]
     },
     "metadata": {},
     "output_type": "display_data"
    }
   ],
   "source": [
    "#making a pie chart\n",
    "plt.figure(figsize=(7,7))\n",
    "plt.pie(list(batting_second['winning_team'].value_counts()),labels=list(batting_second['winning_team'].value_counts().keys()),autopct='%0.1f%%')\n",
    "plt.show()"
   ]
  },
  {
   "cell_type": "code",
   "execution_count": 30,
   "id": "37e02718-db9a-4866-a890-fff708f92e29",
   "metadata": {},
   "outputs": [
    {
     "data": {
      "text/plain": [
       "venue\n",
       "MA Chidambaram Stadium, Chepauk, Chennai                                 9\n",
       "Narendra Modi Stadium, Ahmedabad                                         9\n",
       "Eden Gardens, Kolkata                                                    7\n",
       "M Chinnaswamy Stadium, Bengaluru                                         7\n",
       "Bharat Ratna Shri Atal Bihari Vajpayee Ekana Cricket Stadium, Lucknow    7\n",
       "Wankhede Stadium, Mumbai                                                 7\n",
       "Rajiv Gandhi International Stadium, Uppal, Hyderabad                     6\n",
       "Maharaja Yadavindra Singh International Cricket Stadium, Mullanpur       5\n",
       "Sawai Mansingh Stadium, Jaipur                                           5\n",
       "Arun Jaitley Stadium, Delhi                                              5\n",
       "Dr. Y.S. Rajasekhara Reddy ACA-VDCA Cricket Stadium, Visakhapatnam       2\n",
       "Himachal Pradesh Cricket Association Stadium, Dharamsala                 2\n",
       "Barsapara Cricket Stadium, Guwahati                                      2\n",
       "Rajiv Gandhi International Stadium, Hyderabad                            1\n",
       "Name: count, dtype: int64"
      ]
     },
     "execution_count": 30,
     "metadata": {},
     "output_type": "execute_result"
    }
   ],
   "source": [
    "#looking at the no. of matches played in particular venue\n",
    "m['venue'].value_counts()\n"
   ]
  },
  {
   "cell_type": "code",
   "execution_count": 31,
   "id": "355eca8c-28d4-4292-a10a-4f5fefe66066",
   "metadata": {},
   "outputs": [
    {
     "data": {
      "text/plain": [
       "31"
      ]
     },
     "execution_count": 31,
     "metadata": {},
     "output_type": "execute_result"
    }
   ],
   "source": [
    "#finding out how many times the team has won the match after winning the toss\n",
    "import numpy as np\n",
    "np.sum(m['toss_winner']==m['winning_team'])"
   ]
  },
  {
   "cell_type": "code",
   "execution_count": 32,
   "id": "867c792c-dd62-4119-a501-1965690e3d8f",
   "metadata": {},
   "outputs": [
    {
     "data": {
      "text/plain": [
       "0.4189189189189189"
      ]
     },
     "execution_count": 32,
     "metadata": {},
     "output_type": "execute_result"
    }
   ],
   "source": [
    "#percentage of time toss winning team won the match\n",
    "31/74"
   ]
  },
  {
   "cell_type": "code",
   "execution_count": 35,
   "id": "51ee9352-d9f6-4b54-a919-d28dda3df02a",
   "metadata": {},
   "outputs": [
    {
     "data": {
      "text/plain": [
       "umpire1\n",
       "AK Chaudhary             10\n",
       "Nitin Menon               8\n",
       "A Totre                   7\n",
       "R Pandit                  6\n",
       "Navdeep Singh             6\n",
       "KN Ananthapadmanabhan     6\n",
       "A Nand Kishore            6\n",
       "J Madanagopal             6\n",
       "HAS Khalid                3\n",
       "MV Saidharshan Kumar      3\n",
       "HDPK Dharmasena           3\n",
       "AG Wharf                  2\n",
       "MA Gough                  2\n",
       "NA Patwardhan             2\n",
       "VA Kulkarni               1\n",
       "UV Gandhe                 1\n",
       "Virender Sharma           1\n",
       "Sai Darshan Kumar         1\n",
       "Name: count, dtype: int64"
      ]
     },
     "execution_count": 35,
     "metadata": {},
     "output_type": "execute_result"
    }
   ],
   "source": [
    "#getting the umpire count \n",
    "m['umpire1'].value_counts()"
   ]
  },
  {
   "cell_type": "code",
   "execution_count": 36,
   "id": "170beb46-3c5d-4bba-8ca4-3bf59876073a",
   "metadata": {},
   "outputs": [
    {
     "data": {
      "text/plain": [
       "umpire1\n",
       "AK Chaudhary     10\n",
       "Nitin Menon       8\n",
       "A Totre           7\n",
       "R Pandit          6\n",
       "Navdeep Singh     6\n",
       "Name: count, dtype: int64"
      ]
     },
     "execution_count": 36,
     "metadata": {},
     "output_type": "execute_result"
    }
   ],
   "source": [
    "#getting the top 5 umpire who present in matches\n",
    "m['umpire1'].value_counts()[0:5]"
   ]
  },
  {
   "cell_type": "code",
   "execution_count": 38,
   "id": "2de5fc7f-4982-4cb1-be7f-4af8ecf59b36",
   "metadata": {},
   "outputs": [
    {
     "data": {
      "image/png": "[encoded data removed]",
      "text/plain": [
       "<Figure size 800x500 with 1 Axes>"
      ]
     },
     "metadata": {},
     "output_type": "display_data"
    }
   ],
   "source": [
    "#getting the barplot of top 5 man of the match\n",
    "plt.figure(figsize=(8,5))\n",
    "plt.bar(list(m['umpire1'].value_counts()[0:5].keys()),list(m['umpire1'].value_counts()[0:5]),color=\"r\")\n",
    "plt.show()\n",
    "        "
   ]
  },
  {
   "cell_type": "code",
   "execution_count": 40,
   "id": "d59cd84d-f90c-4207-8f47-1780deb2d9c6",
   "metadata": {},
   "outputs": [
    {
     "data": {
      "text/plain": [
       "striker\n",
       "Kohli            496\n",
       "Gaikwad          425\n",
       "Riyan Parag      406\n",
       "Rahul            398\n",
       "Sai Sudharsan    387\n",
       "Samson           361\n",
       "Head             306\n",
       "Pant             296\n",
       "Shubman Gill     295\n",
       "Pooran           294\n",
       "Name: count, dtype: int64"
      ]
     },
     "execution_count": 40,
     "metadata": {},
     "output_type": "execute_result"
    }
   ],
   "source": [
    "#getting the top 10 players who plays maximum no. of balls\n",
    "d['striker'].value_counts()[0:10]"
   ]
  },
  {
   "cell_type": "code",
   "execution_count": 41,
   "id": "504c07c2-d6c1-48b5-9a24-8967ac48ef4c",
   "metadata": {},
   "outputs": [
    {
     "data": {
      "text/plain": [
       "wicket_type\n",
       "caught                   644\n",
       "bowled                   123\n",
       "runout                    52\n",
       "lbw                       50\n",
       "stumped                   13\n",
       "obstructing the field      1\n",
       "Name: count, dtype: int64"
      ]
     },
     "execution_count": 41,
     "metadata": {},
     "output_type": "execute_result"
    }
   ],
   "source": [
    "#getting the type of wickets fall\n",
    "d['wicket_type'].value_counts()"
   ]
  },
  {
   "cell_type": "code",
   "execution_count": 45,
   "id": "6186eb89-e5cf-4ae0-977e-b083ea751b6c",
   "metadata": {},
   "outputs": [
    {
     "data": {
      "image/png": "[encoded data removed]",
      "text/plain": [
       "<Figure size 700x700 with 1 Axes>"
      ]
     },
     "metadata": {},
     "output_type": "display_data"
    }
   ],
   "source": [
    "#pie chart on falling of wicket\n",
    "plt.figure(figsize=(7,7))\n",
    "plt.pie(list(d['wicket_type'].value_counts()),labels=list(d['wicket_type'].value_counts().keys()),autopct='%0.1f%%')\n",
    "plt.show()"
   ]
  },
  {
   "cell_type": "code",
   "execution_count": 47,
   "id": "1c10c7d7-4aed-425e-a919-d6bac3442633",
   "metadata": {},
   "outputs": [
    {
     "data": {
      "text/plain": [
       "player_dismissed\n",
       "du Plessis         15\n",
       "Abhishek Sharma    15\n",
       "Prabhsimran        14\n",
       "Ishan Kishan       14\n",
       "Jaiswal            14\n",
       "Narine             14\n",
       "Head               14\n",
       "Rahul              14\n",
       "Rajat Patidar      13\n",
       "Rohit              13\n",
       "Name: count, dtype: int64"
      ]
     },
     "execution_count": 47,
     "metadata": {},
     "output_type": "execute_result"
    }
   ],
   "source": [
    "#count of 10 top players who gets dismiss maximum no. of times\n",
    "d['player_dismissed'].value_counts()[0:10]"
   ]
  },
  {
   "cell_type": "code",
   "execution_count": 50,
   "id": "775dae7b-0ddc-48a3-9ced-5ca1d6824927",
   "metadata": {},
   "outputs": [
    {
     "data": {
      "text/plain": [
       "fielder\n",
       "Rahul            17\n",
       "Pant             16\n",
       "Jitesh Sharma    14\n",
       "Philip Salt      13\n",
       "Axar             13\n",
       "Dhoni            11\n",
       "Dhruv Jurel      11\n",
       "Kohli            10\n",
       "Tilak Varma      10\n",
       "Shreyas Iyer     10\n",
       "Name: count, dtype: int64"
      ]
     },
     "execution_count": 50,
     "metadata": {},
     "output_type": "execute_result"
    }
   ],
   "source": [
    "#Best fielder who took caught and runouts\n",
    "d['fielder'].value_counts()[0:10]"
   ]
  },
  {
   "cell_type": "code",
   "execution_count": 56,
   "id": "4e635c7f-08e2-41eb-aa1f-f1ffca82b2ae",
   "metadata": {},
   "outputs": [
    {
     "data": {
      "image/png": "[encoded data removed]",
      "text/plain": [
       "<Figure size 1500x500 with 1 Axes>"
      ]
     },
     "metadata": {},
     "output_type": "display_data"
    }
   ],
   "source": [
    "#bar graph of fielders\n",
    "plt.figure(figsize=(15,5))\n",
    "plt.bar(list(d['fielder'].value_counts()[0:10].keys()),list(d['fielder'].value_counts()[0:10]),color=\"b\")\n",
    "plt.show()\n",
    "        "
   ]
  },
  {
   "cell_type": "code",
   "execution_count": 57,
   "id": "31ddb348-6016-4a61-9783-89a4e8c8e8db",
   "metadata": {},
   "outputs": [
    {
     "data": {
      "text/plain": [
       "bowler\n",
       "Cummins        375\n",
       "Chahal         362\n",
       "Bhuvneshwar    353\n",
       "Siraj          346\n",
       "Ashwin         346\n",
       "Avesh Khan     344\n",
       "Narine         334\n",
       "Boult          333\n",
       "T Natarajan    330\n",
       "Bumrah         328\n",
       "Name: count, dtype: int64"
      ]
     },
     "execution_count": 57,
     "metadata": {},
     "output_type": "execute_result"
    }
   ],
   "source": [
    "#top 5 bowlers who bowled the most\n",
    "d['bowler'].value_counts()[0:10]"
   ]
  },
  {
   "cell_type": "code",
   "execution_count": 60,
   "id": "b4b07d36-9ff3-4862-85ef-92ab48104c73",
   "metadata": {},
   "outputs": [
    {
     "data": {
      "image/png": "[encoded data removed]",
      "text/plain": [
       "<Figure size 1500x500 with 1 Axes>"
      ]
     },
     "metadata": {},
     "output_type": "display_data"
    }
   ],
   "source": [
    "#bar plot related to the bowlers\n",
    "plt.figure(figsize=(15,5))\n",
    "plt.bar(list(d['bowler'].value_counts()[0:10].keys()),list(d['bowler'].value_counts()[0:10]),color=\"y\")\n",
    "plt.show()\n",
    "        "
   ]
  },
  {
   "cell_type": "code",
   "execution_count": 61,
   "id": "61ab014c-f895-4055-b472-d986ba835600",
   "metadata": {},
   "outputs": [
    {
     "data": {
      "text/plain": [
       "runs_of_bat\n",
       "0    6345\n",
       "1    6192\n",
       "4    2175\n",
       "6    1261\n",
       "2    1047\n",
       "3      30\n",
       "5       3\n",
       "Name: count, dtype: int64"
      ]
     },
     "execution_count": 61,
     "metadata": {},
     "output_type": "execute_result"
    }
   ],
   "source": [
    "#total runs in this entire tournament\n",
    "d['runs_of_bat'].value_counts()"
   ]
  },
  {
   "cell_type": "code",
   "execution_count": 68,
   "id": "a1229faf-f4e1-449e-892d-0c094136dd50",
   "metadata": {},
   "outputs": [
    {
     "data": {
      "image/png": "[encoded data removed]",
      "text/plain": [
       "<Figure size 700x700 with 1 Axes>"
      ]
     },
     "metadata": {},
     "output_type": "display_data"
    }
   ],
   "source": [
    "#pie chart related to the runs per ball\n",
    "\n",
    "plt.figure(figsize=(7,7))\n",
    "plt.pie(list(d['runs_of_bat'].value_counts()),labels=list(d['runs_of_bat'].value_counts().keys()),autopct='%0.1f%%')\n",
    "plt.show()"
   ]
  },
  {
   "cell_type": "code",
   "execution_count": null,
   "id": "11e42c54-70ef-411c-9fe1-584b7e226026",
   "metadata": {},
   "outputs": [],
   "source": [
    "\n"
   ]
  }
 ],
 "metadata": {
  "kernelspec": {
   "display_name": "Python 3 (ipykernel)",
   "language": "python",
   "name": "python3"
  },
  "language_info": {
   "codemirror_mode": {
    "name": "ipython",
    "version": 3
   },
   "file_extension": ".py",
   "mimetype": "text/x-python",
   "name": "python",
   "nbconvert_exporter": "python",
   "pygments_lexer": "ipython3",
   "version": "3.11.7"
  }
 },
 "nbformat": 4,
 "nbformat_minor": 5
}
